{
  "cells": [
    {
      "cell_type": "markdown",
      "metadata": {
        "id": "view-in-github",
        "colab_type": "text"
      },
      "source": [
        "<a href=\"https://colab.research.google.com/github/arunucek/algorithm/blob/main/Copy_of_Welcome_To_Colab.ipynb\" target=\"_parent\"><img src=\"https://colab.research.google.com/assets/colab-badge.svg\" alt=\"Open In Colab\"/></a>"
      ]
    },
    {
      "cell_type": "code",
      "source": [
        "import matplotlib.pyplot as plt\n",
        "import heapq\n",
        "\n",
        "def insertion_sort_graph(arr):\n",
        "    steps = [arr.copy()]  # Record initial state\n",
        "    for i in range(1, len(arr)):\n",
        "        key = arr[i]\n",
        "        j = i - 1\n",
        "        while j >= 0 and arr[j] > key:\n",
        "            arr[j + 1] = arr[j]\n",
        "            j -= 1\n",
        "        arr[j + 1] = key\n",
        "        steps.append(arr.copy())  # Record the state after each insertion\n",
        "    return steps, arr\n",
        "\n",
        "# Example usage:\n",
        "arr = [40, 10, 30, 20, 50]\n",
        "steps, sorted_arr = insertion_sort_graph(arr)\n",
        "\n",
        "# Visualizing each step in insertion sort\n",
        "fig, ax = plt.subplots()\n",
        "for i, step in enumerate(steps):\n",
        "    ax.clear()\n",
        "    ax.bar(range(len(arr)), step, color='lightblue')  # Draw bars for current sorted state\n",
        "    ax.set_title(f\"Insertion Sort Step {i + 1}\")\n",
        "    plt.pause(0.5)\n",
        "plt.show()\n",
        "\n",
        "print(f\"Insertion Sort: {sorted_arr}\")\n"
      ],
      "metadata": {
        "colab": {
          "base_uri": "https://localhost:8080/",
          "height": 469
        },
        "id": "4cGewtCY1hvp",
        "outputId": "15a8fa5d-aca1-4f70-91e4-e415f4ed4c10"
      },
      "execution_count": 7,
      "outputs": [
        {
          "output_type": "display_data",
          "data": {
            "text/plain": [
              "<Figure size 640x480 with 1 Axes>"
            ],
            "image/png": "[encoded data removed]"
          },
          "metadata": {}
        },
        {
          "output_type": "stream",
          "name": "stdout",
          "text": [
            "Insertion Sort: [10, 20, 30, 40, 50]\n"
          ]
        }
      ]
    }
  ],
  "metadata": {
    "colab": {
      "toc_visible": true,
      "provenance": [],
      "include_colab_link": true
    },
    "kernelspec": {
      "display_name": "Python 3",
      "name": "python3"
    }
  },
  "nbformat": 4,
  "nbformat_minor": 0
}