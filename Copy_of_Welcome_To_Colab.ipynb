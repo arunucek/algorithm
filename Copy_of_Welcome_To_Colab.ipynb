{
  "cells": [
    {
      "cell_type": "markdown",
      "metadata": {
        "id": "view-in-github",
        "colab_type": "text"
      },
      "source": [
        "<a href=\"https://colab.research.google.com/github/arunucek/algorithm/blob/main/Copy_of_Welcome_To_Colab.ipynb\" target=\"_parent\"><img src=\"https://colab.research.google.com/assets/colab-badge.svg\" alt=\"Open In Colab\"/></a>"
      ]
    },
    {
      "cell_type": "code",
      "source": [
        "import matplotlib.pyplot as plt\n",
        "def binary_search_graph(arr, target):\n",
        "    left, right = 0, len(arr) - 1\n",
        "    steps = []\n",
        "    while left <= right:\n",
        "        mid = (left + right) // 2\n",
        "        steps.append(arr[left:right+1])\n",
        "        if arr[mid] == target:\n",
        "            return steps, mid\n",
        "        elif arr[mid] < target:\n",
        "            left = mid + 1\n",
        "        else:\n",
        "            right = mid - 1\n",
        "    return steps, -1\n",
        "\n",
        "\n",
        "arr = [10, 20, 30, 40, 50]\n",
        "target = 40\n",
        "steps, result = binary_search_graph(arr, target)\n",
        "\n",
        "\n",
        "fig, ax = plt.subplots()\n",
        "for i, step in enumerate(steps):\n",
        "    ax.clear()\n",
        "    ax.bar(range(len(arr)), arr, color='lightgray')\n",
        "    for j in range(len(arr)):\n",
        "        if arr[j] not in step:\n",
        "            ax.bar(j, arr[j], color='lightgray')\n",
        "    ax.set_title(f\"Step {i + 1}\")\n",
        "    plt.pause(0.5)\n",
        "plt.show()\n",
        "\n",
        "if result != -1:\n",
        "    print(f\"Binary Search: Element {target} found at index {result}.\")\n",
        "else:\n",
        "    print(\"Binary Search: Element not found.\")\n"
      ],
      "metadata": {
        "colab": {
          "base_uri": "https://localhost:8080/",
          "height": 469
        },
        "id": "9Un6ix8P0VIA",
        "outputId": "6f263459-24ae-4b67-b4a3-60d91707a5c8"
      },
      "execution_count": 4,
      "outputs": [
        {
          "output_type": "display_data",
          "data": {
            "text/plain": [
              "<Figure size 640x480 with 1 Axes>"
            ],
            "image/png": "[encoded data removed]"
          },
          "metadata": {}
        },
        {
          "output_type": "stream",
          "name": "stdout",
          "text": [
            "Binary Search: Element 40 found at index 3.\n"
          ]
        }
      ]
    }
  ],
  "metadata": {
    "colab": {
      "toc_visible": true,
      "provenance": [],
      "include_colab_link": true
    },
    "kernelspec": {
      "display_name": "Python 3",
      "name": "python3"
    }
  },
  "nbformat": 4,
  "nbformat_minor": 0
}